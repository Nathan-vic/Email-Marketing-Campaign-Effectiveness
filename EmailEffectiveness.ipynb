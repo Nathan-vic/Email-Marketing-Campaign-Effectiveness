{
 "cells": [
  {
   "cell_type": "code",
   "execution_count": 1,
   "metadata": {
    "collapsed": false
   },
   "outputs": [],
   "source": [
    "import pandas as pd\n",
    "import numpy as np\n",
    "import matplotlib.pyplot as plt\n",
    "%matplotlib inline\n",
    "from datetime import datetime\n",
    "import datetime\n",
    "from sklearn.cross_validation import train_test_split\n",
    "from sklearn import metrics\n",
    "from sklearn.cross_validation import cross_val_score\n",
    "from sklearn import tree\n",
    "from sklearn.linear_model import LogisticRegression\n",
    "from sklearn.ensemble import RandomForestClassifier\n",
    "from sklearn.naive_bayes import GaussianNB\n"
   ]
  },
  {
   "cell_type": "markdown",
   "metadata": {},
   "source": [
    "---------------------------------Step 1: Load the Training Data and explore it---------------------------------"
   ]
  },
  {
   "cell_type": "code",
   "execution_count": 2,
   "metadata": {
    "collapsed": true
   },
   "outputs": [],
   "source": [
    "training=pd.read_csv('C:/Users/voran/Desktop/takehome/takehome/training.tsv',dtype=None, sep='\\t',header=None,\n",
    "                     names=['user_id','Activity_Date','Activity'])\n"
   ]
  },
  {
   "cell_type": "code",
   "execution_count": 3,
   "metadata": {
    "collapsed": false
   },
   "outputs": [
    {
     "data": {
      "text/html": [
       "<div>\n",
       "<table border=\"1\" class=\"dataframe\">\n",
       "  <thead>\n",
       "    <tr style=\"text-align: right;\">\n",
       "      <th></th>\n",
       "      <th>user_id</th>\n",
       "      <th>Activity_Date</th>\n",
       "      <th>Activity</th>\n",
       "    </tr>\n",
       "  </thead>\n",
       "  <tbody>\n",
       "    <tr>\n",
       "      <th>count</th>\n",
       "      <td>4918677</td>\n",
       "      <td>4918677</td>\n",
       "      <td>4918677</td>\n",
       "    </tr>\n",
       "    <tr>\n",
       "      <th>unique</th>\n",
       "      <td>341568</td>\n",
       "      <td>671</td>\n",
       "      <td>7</td>\n",
       "    </tr>\n",
       "    <tr>\n",
       "      <th>top</th>\n",
       "      <td>2cd311cc3ef2d0c</td>\n",
       "      <td>2014-06-18</td>\n",
       "      <td>EmailOpen</td>\n",
       "    </tr>\n",
       "    <tr>\n",
       "      <th>freq</th>\n",
       "      <td>2718</td>\n",
       "      <td>50184</td>\n",
       "      <td>3191732</td>\n",
       "    </tr>\n",
       "  </tbody>\n",
       "</table>\n",
       "</div>"
      ],
      "text/plain": [
       "                user_id Activity_Date   Activity\n",
       "count           4918677       4918677    4918677\n",
       "unique           341568           671          7\n",
       "top     2cd311cc3ef2d0c    2014-06-18  EmailOpen\n",
       "freq               2718         50184    3191732"
      ]
     },
     "execution_count": 3,
     "metadata": {},
     "output_type": "execute_result"
    }
   ],
   "source": [
    "training.describe()"
   ]
  },
  {
   "cell_type": "code",
   "execution_count": 4,
   "metadata": {
    "collapsed": false
   },
   "outputs": [
    {
     "data": {
      "text/plain": [
       "array(['EmailOpen', 'FormSubmit', 'Purchase', 'EmailClickthrough',\n",
       "       'CustomerSupport', 'PageView', 'WebVisit'], dtype=object)"
      ]
     },
     "execution_count": 4,
     "metadata": {},
     "output_type": "execute_result"
    }
   ],
   "source": [
    "training.Activity.unique()"
   ]
  },
  {
   "cell_type": "code",
   "execution_count": 5,
   "metadata": {
    "collapsed": false
   },
   "outputs": [
    {
     "name": "stdout",
     "output_type": "stream",
     "text": [
      "2013-07-01\n",
      "2015-05-02\n"
     ]
    }
   ],
   "source": [
    "print training.Activity_Date.min()\n",
    "print training.Activity_Date.max()"
   ]
  },
  {
   "cell_type": "code",
   "execution_count": 6,
   "metadata": {
    "collapsed": true
   },
   "outputs": [],
   "source": [
    "#Pivot the training Data using Activity as columnn"
   ]
  },
  {
   "cell_type": "code",
   "execution_count": 7,
   "metadata": {
    "collapsed": false
   },
   "outputs": [],
   "source": [
    "training['dummy']=1\n",
    "pivoted_training=pd.pivot_table(training,index=['user_id','Activity_Date'],aggfunc=np.sum,fill_value=0,columns='Activity',values='dummy')\n"
   ]
  },
  {
   "cell_type": "code",
   "execution_count": 8,
   "metadata": {
    "collapsed": false
   },
   "outputs": [
    {
     "data": {
      "text/html": [
       "<div>\n",
       "<table border=\"1\" class=\"dataframe\">\n",
       "  <thead>\n",
       "    <tr style=\"text-align: right;\">\n",
       "      <th>Activity</th>\n",
       "      <th>user_id</th>\n",
       "      <th>Activity_Date</th>\n",
       "      <th>CustomerSupport</th>\n",
       "      <th>EmailClickthrough</th>\n",
       "      <th>EmailOpen</th>\n",
       "      <th>FormSubmit</th>\n",
       "      <th>PageView</th>\n",
       "      <th>Purchase</th>\n",
       "      <th>WebVisit</th>\n",
       "    </tr>\n",
       "  </thead>\n",
       "  <tbody>\n",
       "    <tr>\n",
       "      <th>0</th>\n",
       "      <td>00002acbe042d69</td>\n",
       "      <td>2013-07-11</td>\n",
       "      <td>0</td>\n",
       "      <td>0</td>\n",
       "      <td>1</td>\n",
       "      <td>1</td>\n",
       "      <td>0</td>\n",
       "      <td>0</td>\n",
       "      <td>0</td>\n",
       "    </tr>\n",
       "    <tr>\n",
       "      <th>1</th>\n",
       "      <td>00002acbe042d69</td>\n",
       "      <td>2013-07-15</td>\n",
       "      <td>0</td>\n",
       "      <td>0</td>\n",
       "      <td>1</td>\n",
       "      <td>0</td>\n",
       "      <td>0</td>\n",
       "      <td>0</td>\n",
       "      <td>0</td>\n",
       "    </tr>\n",
       "    <tr>\n",
       "      <th>2</th>\n",
       "      <td>00002acbe042d69</td>\n",
       "      <td>2013-07-17</td>\n",
       "      <td>0</td>\n",
       "      <td>0</td>\n",
       "      <td>1</td>\n",
       "      <td>0</td>\n",
       "      <td>0</td>\n",
       "      <td>0</td>\n",
       "      <td>0</td>\n",
       "    </tr>\n",
       "    <tr>\n",
       "      <th>3</th>\n",
       "      <td>00002acbe042d69</td>\n",
       "      <td>2013-07-18</td>\n",
       "      <td>0</td>\n",
       "      <td>0</td>\n",
       "      <td>1</td>\n",
       "      <td>0</td>\n",
       "      <td>0</td>\n",
       "      <td>0</td>\n",
       "      <td>0</td>\n",
       "    </tr>\n",
       "    <tr>\n",
       "      <th>4</th>\n",
       "      <td>00002acbe042d69</td>\n",
       "      <td>2013-07-25</td>\n",
       "      <td>0</td>\n",
       "      <td>0</td>\n",
       "      <td>1</td>\n",
       "      <td>0</td>\n",
       "      <td>0</td>\n",
       "      <td>0</td>\n",
       "      <td>0</td>\n",
       "    </tr>\n",
       "  </tbody>\n",
       "</table>\n",
       "</div>"
      ],
      "text/plain": [
       "Activity          user_id Activity_Date  CustomerSupport  EmailClickthrough  \\\n",
       "0         00002acbe042d69    2013-07-11                0                  0   \n",
       "1         00002acbe042d69    2013-07-15                0                  0   \n",
       "2         00002acbe042d69    2013-07-17                0                  0   \n",
       "3         00002acbe042d69    2013-07-18                0                  0   \n",
       "4         00002acbe042d69    2013-07-25                0                  0   \n",
       "\n",
       "Activity  EmailOpen  FormSubmit  PageView  Purchase  WebVisit  \n",
       "0                 1           1         0         0         0  \n",
       "1                 1           0         0         0         0  \n",
       "2                 1           0         0         0         0  \n",
       "3                 1           0         0         0         0  \n",
       "4                 1           0         0         0         0  "
      ]
     },
     "execution_count": 8,
     "metadata": {},
     "output_type": "execute_result"
    }
   ],
   "source": [
    "pivoted_training.reset_index(inplace=True)\n",
    "pivoted_training.head()"
   ]
  },
  {
   "cell_type": "markdown",
   "metadata": {},
   "source": [
    "---------------------------------Step 2: Load the Test Data and explore it---------------------------------"
   ]
  },
  {
   "cell_type": "code",
   "execution_count": 9,
   "metadata": {
    "collapsed": false
   },
   "outputs": [],
   "source": [
    "testing=pd.read_csv('C:/Users/voran/Desktop/takehome/takehome/test.tsv',dtype=None, sep='\\t',header=None,\n",
    "                     names=['user_id','Activity_Date','Activity'])"
   ]
  },
  {
   "cell_type": "code",
   "execution_count": 10,
   "metadata": {
    "collapsed": false
   },
   "outputs": [
    {
     "data": {
      "text/html": [
       "<div>\n",
       "<table border=\"1\" class=\"dataframe\">\n",
       "  <thead>\n",
       "    <tr style=\"text-align: right;\">\n",
       "      <th></th>\n",
       "      <th>user_id</th>\n",
       "      <th>Activity_Date</th>\n",
       "      <th>Activity</th>\n",
       "    </tr>\n",
       "  </thead>\n",
       "  <tbody>\n",
       "    <tr>\n",
       "      <th>count</th>\n",
       "      <td>797759</td>\n",
       "      <td>797759</td>\n",
       "      <td>797759</td>\n",
       "    </tr>\n",
       "    <tr>\n",
       "      <th>unique</th>\n",
       "      <td>132810</td>\n",
       "      <td>92</td>\n",
       "      <td>5</td>\n",
       "    </tr>\n",
       "    <tr>\n",
       "      <th>top</th>\n",
       "      <td>2cd311cc3ef2d0c</td>\n",
       "      <td>2015-06-23</td>\n",
       "      <td>EmailOpen</td>\n",
       "    </tr>\n",
       "    <tr>\n",
       "      <th>freq</th>\n",
       "      <td>355</td>\n",
       "      <td>45919</td>\n",
       "      <td>550886</td>\n",
       "    </tr>\n",
       "  </tbody>\n",
       "</table>\n",
       "</div>"
      ],
      "text/plain": [
       "                user_id Activity_Date   Activity\n",
       "count            797759        797759     797759\n",
       "unique           132810            92          5\n",
       "top     2cd311cc3ef2d0c    2015-06-23  EmailOpen\n",
       "freq                355         45919     550886"
      ]
     },
     "execution_count": 10,
     "metadata": {},
     "output_type": "execute_result"
    }
   ],
   "source": [
    "testing.describe()"
   ]
  },
  {
   "cell_type": "code",
   "execution_count": 11,
   "metadata": {
    "collapsed": false
   },
   "outputs": [
    {
     "data": {
      "text/plain": [
       "array(['EmailOpen', 'EmailClickthrough', 'FormSubmit', 'PageView',\n",
       "       'WebVisit'], dtype=object)"
      ]
     },
     "execution_count": 11,
     "metadata": {},
     "output_type": "execute_result"
    }
   ],
   "source": [
    "testing.Activity.unique()"
   ]
  },
  {
   "cell_type": "code",
   "execution_count": 12,
   "metadata": {
    "collapsed": false
   },
   "outputs": [
    {
     "name": "stdout",
     "output_type": "stream",
     "text": [
      "2015-05-01\n",
      "2015-07-31\n"
     ]
    }
   ],
   "source": [
    "print testing.Activity_Date.min()\n",
    "print testing.Activity_Date.max()"
   ]
  },
  {
   "cell_type": "code",
   "execution_count": 13,
   "metadata": {
    "collapsed": true
   },
   "outputs": [],
   "source": [
    "#Pivot the Test Data using Activity as column"
   ]
  },
  {
   "cell_type": "code",
   "execution_count": 14,
   "metadata": {
    "collapsed": true
   },
   "outputs": [],
   "source": [
    "testing['dummy']=1\n",
    "pivoted_testing=pd.pivot_table(testing,index=['user_id','Activity_Date'],aggfunc=np.sum,fill_value=0,columns='Activity',values='dummy')\n"
   ]
  },
  {
   "cell_type": "code",
   "execution_count": 15,
   "metadata": {
    "collapsed": false
   },
   "outputs": [
    {
     "data": {
      "text/html": [
       "<div>\n",
       "<table border=\"1\" class=\"dataframe\">\n",
       "  <thead>\n",
       "    <tr style=\"text-align: right;\">\n",
       "      <th>Activity</th>\n",
       "      <th>user_id</th>\n",
       "      <th>Activity_Date</th>\n",
       "      <th>EmailClickthrough</th>\n",
       "      <th>EmailOpen</th>\n",
       "      <th>FormSubmit</th>\n",
       "      <th>PageView</th>\n",
       "      <th>WebVisit</th>\n",
       "    </tr>\n",
       "  </thead>\n",
       "  <tbody>\n",
       "    <tr>\n",
       "      <th>0</th>\n",
       "      <td>0000ecf58c94668</td>\n",
       "      <td>2015-05-20</td>\n",
       "      <td>0</td>\n",
       "      <td>1</td>\n",
       "      <td>0</td>\n",
       "      <td>0</td>\n",
       "      <td>0</td>\n",
       "    </tr>\n",
       "    <tr>\n",
       "      <th>1</th>\n",
       "      <td>0000ecf58c94668</td>\n",
       "      <td>2015-06-11</td>\n",
       "      <td>0</td>\n",
       "      <td>1</td>\n",
       "      <td>0</td>\n",
       "      <td>0</td>\n",
       "      <td>0</td>\n",
       "    </tr>\n",
       "    <tr>\n",
       "      <th>2</th>\n",
       "      <td>0000ecf58c94668</td>\n",
       "      <td>2015-06-29</td>\n",
       "      <td>0</td>\n",
       "      <td>1</td>\n",
       "      <td>0</td>\n",
       "      <td>0</td>\n",
       "      <td>0</td>\n",
       "    </tr>\n",
       "    <tr>\n",
       "      <th>3</th>\n",
       "      <td>0000ecf58c94668</td>\n",
       "      <td>2015-07-05</td>\n",
       "      <td>0</td>\n",
       "      <td>1</td>\n",
       "      <td>0</td>\n",
       "      <td>0</td>\n",
       "      <td>0</td>\n",
       "    </tr>\n",
       "    <tr>\n",
       "      <th>4</th>\n",
       "      <td>0000ecf58c94668</td>\n",
       "      <td>2015-07-29</td>\n",
       "      <td>0</td>\n",
       "      <td>1</td>\n",
       "      <td>0</td>\n",
       "      <td>0</td>\n",
       "      <td>0</td>\n",
       "    </tr>\n",
       "  </tbody>\n",
       "</table>\n",
       "</div>"
      ],
      "text/plain": [
       "Activity          user_id Activity_Date  EmailClickthrough  EmailOpen  \\\n",
       "0         0000ecf58c94668    2015-05-20                  0          1   \n",
       "1         0000ecf58c94668    2015-06-11                  0          1   \n",
       "2         0000ecf58c94668    2015-06-29                  0          1   \n",
       "3         0000ecf58c94668    2015-07-05                  0          1   \n",
       "4         0000ecf58c94668    2015-07-29                  0          1   \n",
       "\n",
       "Activity  FormSubmit  PageView  WebVisit  \n",
       "0                  0         0         0  \n",
       "1                  0         0         0  \n",
       "2                  0         0         0  \n",
       "3                  0         0         0  \n",
       "4                  0         0         0  "
      ]
     },
     "execution_count": 15,
     "metadata": {},
     "output_type": "execute_result"
    }
   ],
   "source": [
    "pivoted_testing.reset_index(inplace=True)\n",
    "pivoted_testing.head()"
   ]
  },
  {
   "cell_type": "markdown",
   "metadata": {},
   "source": [
    "---------------------------------Step 3: Exploring the training dataset further---------------------------------"
   ]
  },
  {
   "cell_type": "code",
   "execution_count": 16,
   "metadata": {
    "collapsed": false
   },
   "outputs": [
    {
     "data": {
      "text/html": [
       "<div>\n",
       "<table border=\"1\" class=\"dataframe\">\n",
       "  <thead>\n",
       "    <tr style=\"text-align: right;\">\n",
       "      <th>Activity</th>\n",
       "      <th>CustomerSupport</th>\n",
       "      <th>EmailClickthrough</th>\n",
       "      <th>EmailOpen</th>\n",
       "      <th>FormSubmit</th>\n",
       "      <th>PageView</th>\n",
       "      <th>Purchase</th>\n",
       "      <th>WebVisit</th>\n",
       "    </tr>\n",
       "  </thead>\n",
       "  <tbody>\n",
       "    <tr>\n",
       "      <th>count</th>\n",
       "      <td>3.191732e+06</td>\n",
       "      <td>3.191732e+06</td>\n",
       "      <td>3191732.0</td>\n",
       "      <td>3.191732e+06</td>\n",
       "      <td>3.191732e+06</td>\n",
       "      <td>3.191732e+06</td>\n",
       "      <td>3.191732e+06</td>\n",
       "    </tr>\n",
       "    <tr>\n",
       "      <th>mean</th>\n",
       "      <td>6.382115e-04</td>\n",
       "      <td>7.417289e-02</td>\n",
       "      <td>1.0</td>\n",
       "      <td>3.502612e-02</td>\n",
       "      <td>4.557557e-02</td>\n",
       "      <td>1.197657e-02</td>\n",
       "      <td>4.573630e-02</td>\n",
       "    </tr>\n",
       "    <tr>\n",
       "      <th>std</th>\n",
       "      <td>2.525479e-02</td>\n",
       "      <td>2.620521e-01</td>\n",
       "      <td>0.0</td>\n",
       "      <td>1.838459e-01</td>\n",
       "      <td>2.085628e-01</td>\n",
       "      <td>1.087802e-01</td>\n",
       "      <td>2.089127e-01</td>\n",
       "    </tr>\n",
       "    <tr>\n",
       "      <th>min</th>\n",
       "      <td>0.000000e+00</td>\n",
       "      <td>0.000000e+00</td>\n",
       "      <td>1.0</td>\n",
       "      <td>0.000000e+00</td>\n",
       "      <td>0.000000e+00</td>\n",
       "      <td>0.000000e+00</td>\n",
       "      <td>0.000000e+00</td>\n",
       "    </tr>\n",
       "    <tr>\n",
       "      <th>25%</th>\n",
       "      <td>0.000000e+00</td>\n",
       "      <td>0.000000e+00</td>\n",
       "      <td>1.0</td>\n",
       "      <td>0.000000e+00</td>\n",
       "      <td>0.000000e+00</td>\n",
       "      <td>0.000000e+00</td>\n",
       "      <td>0.000000e+00</td>\n",
       "    </tr>\n",
       "    <tr>\n",
       "      <th>50%</th>\n",
       "      <td>0.000000e+00</td>\n",
       "      <td>0.000000e+00</td>\n",
       "      <td>1.0</td>\n",
       "      <td>0.000000e+00</td>\n",
       "      <td>0.000000e+00</td>\n",
       "      <td>0.000000e+00</td>\n",
       "      <td>0.000000e+00</td>\n",
       "    </tr>\n",
       "    <tr>\n",
       "      <th>75%</th>\n",
       "      <td>0.000000e+00</td>\n",
       "      <td>0.000000e+00</td>\n",
       "      <td>1.0</td>\n",
       "      <td>0.000000e+00</td>\n",
       "      <td>0.000000e+00</td>\n",
       "      <td>0.000000e+00</td>\n",
       "      <td>0.000000e+00</td>\n",
       "    </tr>\n",
       "    <tr>\n",
       "      <th>max</th>\n",
       "      <td>1.000000e+00</td>\n",
       "      <td>1.000000e+00</td>\n",
       "      <td>1.0</td>\n",
       "      <td>1.000000e+00</td>\n",
       "      <td>1.000000e+00</td>\n",
       "      <td>1.000000e+00</td>\n",
       "      <td>1.000000e+00</td>\n",
       "    </tr>\n",
       "  </tbody>\n",
       "</table>\n",
       "</div>"
      ],
      "text/plain": [
       "Activity  CustomerSupport  EmailClickthrough  EmailOpen    FormSubmit  \\\n",
       "count        3.191732e+06       3.191732e+06  3191732.0  3.191732e+06   \n",
       "mean         6.382115e-04       7.417289e-02        1.0  3.502612e-02   \n",
       "std          2.525479e-02       2.620521e-01        0.0  1.838459e-01   \n",
       "min          0.000000e+00       0.000000e+00        1.0  0.000000e+00   \n",
       "25%          0.000000e+00       0.000000e+00        1.0  0.000000e+00   \n",
       "50%          0.000000e+00       0.000000e+00        1.0  0.000000e+00   \n",
       "75%          0.000000e+00       0.000000e+00        1.0  0.000000e+00   \n",
       "max          1.000000e+00       1.000000e+00        1.0  1.000000e+00   \n",
       "\n",
       "Activity      PageView      Purchase      WebVisit  \n",
       "count     3.191732e+06  3.191732e+06  3.191732e+06  \n",
       "mean      4.557557e-02  1.197657e-02  4.573630e-02  \n",
       "std       2.085628e-01  1.087802e-01  2.089127e-01  \n",
       "min       0.000000e+00  0.000000e+00  0.000000e+00  \n",
       "25%       0.000000e+00  0.000000e+00  0.000000e+00  \n",
       "50%       0.000000e+00  0.000000e+00  0.000000e+00  \n",
       "75%       0.000000e+00  0.000000e+00  0.000000e+00  \n",
       "max       1.000000e+00  1.000000e+00  1.000000e+00  "
      ]
     },
     "execution_count": 16,
     "metadata": {},
     "output_type": "execute_result"
    }
   ],
   "source": [
    "pivoted_training[pivoted_training['EmailOpen']==1].describe()"
   ]
  },
  {
   "cell_type": "code",
   "execution_count": 17,
   "metadata": {
    "collapsed": true
   },
   "outputs": [],
   "source": [
    "#Exploring the users with one or more purchase"
   ]
  },
  {
   "cell_type": "code",
   "execution_count": 18,
   "metadata": {
    "collapsed": true
   },
   "outputs": [],
   "source": [
    "purchasers=pd.pivot_table(pivoted_training,values='Purchase',index='user_id',aggfunc=np.sum)"
   ]
  },
  {
   "cell_type": "code",
   "execution_count": 19,
   "metadata": {
    "collapsed": false
   },
   "outputs": [
    {
     "data": {
      "image/png": "[encoded data removed]",
      "text/plain": [
       "<matplotlib.figure.Figure at 0x4e6c2048>"
      ]
     },
     "metadata": {},
     "output_type": "display_data"
    },
    {
     "name": "stdout",
     "output_type": "stream",
     "text": [
      "No. of Unique Users: 341568\n",
      "No purchasers: 237577\n",
      "One Time Purchasers: 49635\n",
      "Greater than 10 Purchasers: 7787\n"
     ]
    }
   ],
   "source": [
    "purchasers.head()\n",
    "plt.hist(purchasers,bins=100)\n",
    "plt.title(\"User's Purchases Histogram\")\n",
    "plt.xlabel(\"No. of Purchases\")\n",
    "plt.ylabel('No. of Users')\n",
    "plt.show()\n",
    "print 'No. of Unique Users:', purchasers.count()\n",
    "print 'No purchasers:' ,purchasers[purchasers==0].count()\n",
    "print 'One Time Purchasers:', purchasers[purchasers==1].count()\n",
    "print 'Greater than 10 Purchasers:', purchasers[purchasers>=10].count()\n",
    "onetimepurchasers_users=purchasers[purchasers==1].index"
   ]
  },
  {
   "cell_type": "code",
   "execution_count": 20,
   "metadata": {
    "collapsed": true
   },
   "outputs": [],
   "source": [
    "#Exploring the one time purchasers taking in to account their first and last date of Activity"
   ]
  },
  {
   "cell_type": "code",
   "execution_count": 21,
   "metadata": {
    "collapsed": false
   },
   "outputs": [],
   "source": [
    "onetimepurchase=pivoted_training.loc[pivoted_training.user_id.isin(onetimepurchasers_users)]\n",
    "activity_diff=onetimepurchase.pivot_table(aggfunc=[np.min,np.max],index='user_id',values='Activity_Date')\n",
    "activity_diff.reset_index(inplace=True)\n",
    "activity_diff['amax']=pd.to_datetime(activity_diff['amax'])\n",
    "activity_diff['amin']=pd.to_datetime(activity_diff['amin'])\n",
    "activity_diff['difference']=(activity_diff['amax']-activity_diff['amin'])\n",
    "activity_diff['difference']=(activity_diff['difference'] / np.timedelta64(1, 'D')).astype(float)"
   ]
  },
  {
   "cell_type": "code",
   "execution_count": 22,
   "metadata": {
    "collapsed": false,
    "scrolled": true
   },
   "outputs": [
    {
     "data": {
      "image/png": "[encoded data removed]",
      "text/plain": [
       "<matplotlib.figure.Figure at 0x4efe02e8>"
      ]
     },
     "metadata": {},
     "output_type": "display_data"
    },
    {
     "name": "stdout",
     "output_type": "stream",
     "text": [
      "No. of Unique Users: 341568\n",
      "No purchasers: 237577\n",
      "One Time Purchasers: 49635\n",
      "No. of Users within two day purchase: 18575\n",
      "No. of Users with less than 10 days of activity: 37469\n"
     ]
    }
   ],
   "source": [
    "plt.hist(activity_diff['difference'],bins=20)\n",
    "plt.title(\"User's Activity\")\n",
    "plt.xlabel(\"Difference in first & last activity\")\n",
    "plt.ylabel('No. of Users')\n",
    "plt.show()\n",
    "onedaybuyers=activity_diff[activity_diff['difference']==1].user_id\n",
    "print 'No. of Unique Users:', purchasers.count()\n",
    "print 'No purchasers:' ,purchasers[purchasers==0].count()\n",
    "print 'One Time Purchasers:', activity_diff['user_id'].count()\n",
    "print 'No. of Users within two day purchase:', onedaybuyers.count()\n",
    "print 'No. of Users with less than 10 days of activity:' ,activity_diff[activity_diff['difference']<=10]['user_id'].count()"
   ]
  },
  {
   "cell_type": "code",
   "execution_count": 23,
   "metadata": {
    "collapsed": false
   },
   "outputs": [
    {
     "data": {
      "text/html": [
       "<div>\n",
       "<table border=\"1\" class=\"dataframe\">\n",
       "  <thead>\n",
       "    <tr style=\"text-align: right;\">\n",
       "      <th>Activity</th>\n",
       "      <th>CustomerSupport</th>\n",
       "      <th>EmailClickthrough</th>\n",
       "      <th>EmailOpen</th>\n",
       "      <th>FormSubmit</th>\n",
       "      <th>PageView</th>\n",
       "      <th>Purchase</th>\n",
       "      <th>WebVisit</th>\n",
       "    </tr>\n",
       "  </thead>\n",
       "  <tbody>\n",
       "    <tr>\n",
       "      <th>count</th>\n",
       "      <td>18575.0</td>\n",
       "      <td>18575.000000</td>\n",
       "      <td>18575.000000</td>\n",
       "      <td>18575.000000</td>\n",
       "      <td>18575.000000</td>\n",
       "      <td>18575.0</td>\n",
       "      <td>18575.000000</td>\n",
       "    </tr>\n",
       "    <tr>\n",
       "      <th>mean</th>\n",
       "      <td>1.0</td>\n",
       "      <td>0.000054</td>\n",
       "      <td>0.000054</td>\n",
       "      <td>0.000054</td>\n",
       "      <td>0.000054</td>\n",
       "      <td>0.0</td>\n",
       "      <td>0.000054</td>\n",
       "    </tr>\n",
       "    <tr>\n",
       "      <th>std</th>\n",
       "      <td>0.0</td>\n",
       "      <td>0.007337</td>\n",
       "      <td>0.007337</td>\n",
       "      <td>0.007337</td>\n",
       "      <td>0.007337</td>\n",
       "      <td>0.0</td>\n",
       "      <td>0.007337</td>\n",
       "    </tr>\n",
       "    <tr>\n",
       "      <th>min</th>\n",
       "      <td>1.0</td>\n",
       "      <td>0.000000</td>\n",
       "      <td>0.000000</td>\n",
       "      <td>0.000000</td>\n",
       "      <td>0.000000</td>\n",
       "      <td>0.0</td>\n",
       "      <td>0.000000</td>\n",
       "    </tr>\n",
       "    <tr>\n",
       "      <th>25%</th>\n",
       "      <td>1.0</td>\n",
       "      <td>0.000000</td>\n",
       "      <td>0.000000</td>\n",
       "      <td>0.000000</td>\n",
       "      <td>0.000000</td>\n",
       "      <td>0.0</td>\n",
       "      <td>0.000000</td>\n",
       "    </tr>\n",
       "    <tr>\n",
       "      <th>50%</th>\n",
       "      <td>1.0</td>\n",
       "      <td>0.000000</td>\n",
       "      <td>0.000000</td>\n",
       "      <td>0.000000</td>\n",
       "      <td>0.000000</td>\n",
       "      <td>0.0</td>\n",
       "      <td>0.000000</td>\n",
       "    </tr>\n",
       "    <tr>\n",
       "      <th>75%</th>\n",
       "      <td>1.0</td>\n",
       "      <td>0.000000</td>\n",
       "      <td>0.000000</td>\n",
       "      <td>0.000000</td>\n",
       "      <td>0.000000</td>\n",
       "      <td>0.0</td>\n",
       "      <td>0.000000</td>\n",
       "    </tr>\n",
       "    <tr>\n",
       "      <th>max</th>\n",
       "      <td>1.0</td>\n",
       "      <td>1.000000</td>\n",
       "      <td>1.000000</td>\n",
       "      <td>1.000000</td>\n",
       "      <td>1.000000</td>\n",
       "      <td>0.0</td>\n",
       "      <td>1.000000</td>\n",
       "    </tr>\n",
       "  </tbody>\n",
       "</table>\n",
       "</div>"
      ],
      "text/plain": [
       "Activity  CustomerSupport  EmailClickthrough     EmailOpen    FormSubmit  \\\n",
       "count             18575.0       18575.000000  18575.000000  18575.000000   \n",
       "mean                  1.0           0.000054      0.000054      0.000054   \n",
       "std                   0.0           0.007337      0.007337      0.007337   \n",
       "min                   1.0           0.000000      0.000000      0.000000   \n",
       "25%                   1.0           0.000000      0.000000      0.000000   \n",
       "50%                   1.0           0.000000      0.000000      0.000000   \n",
       "75%                   1.0           0.000000      0.000000      0.000000   \n",
       "max                   1.0           1.000000      1.000000      1.000000   \n",
       "\n",
       "Activity      PageView  Purchase      WebVisit  \n",
       "count     18575.000000   18575.0  18575.000000  \n",
       "mean          0.000054       0.0      0.000054  \n",
       "std           0.007337       0.0      0.007337  \n",
       "min           0.000000       0.0      0.000000  \n",
       "25%           0.000000       0.0      0.000000  \n",
       "50%           0.000000       0.0      0.000000  \n",
       "75%           0.000000       0.0      0.000000  \n",
       "max           1.000000       0.0      1.000000  "
      ]
     },
     "execution_count": 23,
     "metadata": {},
     "output_type": "execute_result"
    }
   ],
   "source": [
    "onedaybuyers_1=pivoted_training.loc[pivoted_training.user_id.isin(onedaybuyers)]\n",
    "onedaybuyers_1[onedaybuyers_1['CustomerSupport']==1].describe()"
   ]
  },
  {
   "cell_type": "code",
   "execution_count": 24,
   "metadata": {
    "collapsed": true
   },
   "outputs": [],
   "source": [
    "#Each purchase of users is followed by Customer Support on next day and thus removed those datapoints\n",
    "#as they don't influence the purchase decision"
   ]
  },
  {
   "cell_type": "code",
   "execution_count": 25,
   "metadata": {
    "collapsed": false
   },
   "outputs": [],
   "source": [
    "pivoted_training[(pivoted_training['CustomerSupport']==1)].describe()\n",
    "pivoted_training=pivoted_training[~(pivoted_training['CustomerSupport']==1)]"
   ]
  },
  {
   "cell_type": "markdown",
   "metadata": {},
   "source": [
    "---------------------------------Step 4: Prepare Model Data---------------------------------"
   ]
  },
  {
   "cell_type": "markdown",
   "metadata": {},
   "source": [
    "Each user's activities is transformed in to a row with activities as column variables and corresponding values are percentage of that activity \n",
    "\n",
    "If a user has total 100 Activities and 30 of them are EmailOpen then EmailOpen variable is 30% i.e. 0.3\n",
    "\n",
    "If a user has one or more than one purchase, then the target variable is 1 else 0\n"
   ]
  },
  {
   "cell_type": "code",
   "execution_count": 26,
   "metadata": {
    "collapsed": false
   },
   "outputs": [],
   "source": [
    "training_model_data=pivoted_training.pivot_table(index='user_id',aggfunc=[np.sum,len],\n",
    "                                                values=['CustomerSupport', 'EmailClickthrough',\n",
    "                                 'EmailOpen', 'FormSubmit', 'PageView','Purchase', 'WebVisit'])"
   ]
  },
  {
   "cell_type": "code",
   "execution_count": 27,
   "metadata": {
    "collapsed": false
   },
   "outputs": [],
   "source": [
    "#Preparing Model Data\n",
    "def prepare_data(data):\n",
    "    transformed=pd.DataFrame()\n",
    "    col=data.columns.values\n",
    "    for i in range(len(col)):\n",
    "        c=col[i][1]\n",
    "        transformed[c]=(data['sum'][c]/data['len'][c]).reset_index(drop=True)\n",
    "    ind=data.index.names\n",
    "    x=data.reset_index()\n",
    "    for i in range(len(ind)):\n",
    "        each=ind[i]\n",
    "        transformed[each]=x[each]\n",
    "    return transformed\n"
   ]
  },
  {
   "cell_type": "code",
   "execution_count": 28,
   "metadata": {
    "collapsed": false
   },
   "outputs": [
    {
     "data": {
      "text/html": [
       "<div>\n",
       "<table border=\"1\" class=\"dataframe\">\n",
       "  <thead>\n",
       "    <tr style=\"text-align: right;\">\n",
       "      <th></th>\n",
       "      <th>CustomerSupport</th>\n",
       "      <th>EmailClickthrough</th>\n",
       "      <th>EmailOpen</th>\n",
       "      <th>FormSubmit</th>\n",
       "      <th>PageView</th>\n",
       "      <th>Purchase</th>\n",
       "      <th>WebVisit</th>\n",
       "      <th>user_id</th>\n",
       "      <th>target</th>\n",
       "    </tr>\n",
       "  </thead>\n",
       "  <tbody>\n",
       "    <tr>\n",
       "      <th>0</th>\n",
       "      <td>0.0</td>\n",
       "      <td>0.000000</td>\n",
       "      <td>1.000000</td>\n",
       "      <td>0.111111</td>\n",
       "      <td>0.0</td>\n",
       "      <td>0.000000</td>\n",
       "      <td>0.0</td>\n",
       "      <td>00002acbe042d69</td>\n",
       "      <td>0</td>\n",
       "    </tr>\n",
       "    <tr>\n",
       "      <th>1</th>\n",
       "      <td>0.0</td>\n",
       "      <td>0.000000</td>\n",
       "      <td>1.000000</td>\n",
       "      <td>0.000000</td>\n",
       "      <td>0.0</td>\n",
       "      <td>0.000000</td>\n",
       "      <td>0.0</td>\n",
       "      <td>0000a3a34bd07e6</td>\n",
       "      <td>0</td>\n",
       "    </tr>\n",
       "    <tr>\n",
       "      <th>2</th>\n",
       "      <td>0.0</td>\n",
       "      <td>0.055556</td>\n",
       "      <td>0.611111</td>\n",
       "      <td>0.055556</td>\n",
       "      <td>0.0</td>\n",
       "      <td>0.333333</td>\n",
       "      <td>0.0</td>\n",
       "      <td>0000ecf58c94668</td>\n",
       "      <td>1</td>\n",
       "    </tr>\n",
       "    <tr>\n",
       "      <th>3</th>\n",
       "      <td>0.0</td>\n",
       "      <td>0.000000</td>\n",
       "      <td>1.000000</td>\n",
       "      <td>0.000000</td>\n",
       "      <td>0.0</td>\n",
       "      <td>0.000000</td>\n",
       "      <td>0.0</td>\n",
       "      <td>00012205dd4613b</td>\n",
       "      <td>0</td>\n",
       "    </tr>\n",
       "    <tr>\n",
       "      <th>4</th>\n",
       "      <td>0.0</td>\n",
       "      <td>0.000000</td>\n",
       "      <td>0.000000</td>\n",
       "      <td>0.000000</td>\n",
       "      <td>0.0</td>\n",
       "      <td>1.000000</td>\n",
       "      <td>0.0</td>\n",
       "      <td>000198d39a568cf</td>\n",
       "      <td>1</td>\n",
       "    </tr>\n",
       "  </tbody>\n",
       "</table>\n",
       "</div>"
      ],
      "text/plain": [
       "   CustomerSupport  EmailClickthrough  EmailOpen  FormSubmit  PageView  \\\n",
       "0              0.0           0.000000   1.000000    0.111111       0.0   \n",
       "1              0.0           0.000000   1.000000    0.000000       0.0   \n",
       "2              0.0           0.055556   0.611111    0.055556       0.0   \n",
       "3              0.0           0.000000   1.000000    0.000000       0.0   \n",
       "4              0.0           0.000000   0.000000    0.000000       0.0   \n",
       "\n",
       "   Purchase  WebVisit          user_id  target  \n",
       "0  0.000000       0.0  00002acbe042d69       0  \n",
       "1  0.000000       0.0  0000a3a34bd07e6       0  \n",
       "2  0.333333       0.0  0000ecf58c94668       1  \n",
       "3  0.000000       0.0  00012205dd4613b       0  \n",
       "4  1.000000       0.0  000198d39a568cf       1  "
      ]
     },
     "execution_count": 28,
     "metadata": {},
     "output_type": "execute_result"
    }
   ],
   "source": [
    "training_modeldata=prepare_data(training_model_data)\n",
    "training_modeldata['target']=training_modeldata['Purchase']>0\n",
    "training_modeldata['target']=training_modeldata['target'].astype('int64')\n",
    "training_modeldata.head()"
   ]
  },
  {
   "cell_type": "markdown",
   "metadata": {},
   "source": [
    "---------------------------------Step 5: Model Generation & Evaulation---------------------------------"
   ]
  },
  {
   "cell_type": "code",
   "execution_count": 29,
   "metadata": {
    "collapsed": true
   },
   "outputs": [],
   "source": [
    "#Model Evaulation\n",
    "def modeleval(X_train, X_test, Y_train, Y_test,model):\n",
    "    #features=['EmailOpen','EmailClickthrough','PageView','WebVisit','FormSubmit']\n",
    "    model=model.fit(X,Y)\n",
    "    print \"Score: \", model.score(X, Y)\n",
    "    \n",
    "    print '---------Training Data Results---------'\n",
    "    print \n",
    "    predicted_train = model.predict(X_train)\n",
    "    probs_train = model.predict_proba(X_train)\n",
    "    print 'Accuracy: ', metrics.accuracy_score(Y_train, predicted_train)\n",
    "    print 'AUC: ', metrics.roc_auc_score(Y_train, probs_train[:, 1])\n",
    "    print 'Confusion Matrix: '\n",
    "    print metrics.confusion_matrix(Y_train, predicted_train)\n",
    "    print 'Classification Report: '\n",
    "    print metrics.classification_report(Y_train, predicted_train)\n",
    "    \n",
    "    print '---------Testing Data Results---------'\n",
    "    print \n",
    "    predicted_test = model.predict(X_test)\n",
    "    probs_test = model.predict_proba(X_test)\n",
    "    print 'Accuracy: ', metrics.accuracy_score(Y_test, predicted_test)\n",
    "    print 'AUC: ', metrics.roc_auc_score(Y_test, probs_test[:, 1])\n",
    "    print 'Confusion Matrix: '\n",
    "    print metrics.confusion_matrix(Y_test, predicted_test)\n",
    "    print 'Classification Report: '\n",
    "    print metrics.classification_report(Y_test, predicted_test)\n",
    "    return model"
   ]
  },
  {
   "cell_type": "code",
   "execution_count": 32,
   "metadata": {
    "collapsed": false
   },
   "outputs": [],
   "source": [
    "features=['EmailOpen','EmailClickthrough','PageView','WebVisit','FormSubmit']\n",
    "X=training_modeldata[features]\n",
    "Y=training_modeldata['target']"
   ]
  },
  {
   "cell_type": "code",
   "execution_count": 33,
   "metadata": {
    "collapsed": false
   },
   "outputs": [],
   "source": [
    "X_train, X_test, Y_train, Y_test = train_test_split(X, Y, test_size=0.3, random_state=0)"
   ]
  },
  {
   "cell_type": "code",
   "execution_count": 34,
   "metadata": {
    "collapsed": false
   },
   "outputs": [
    {
     "name": "stdout",
     "output_type": "stream",
     "text": [
      "Score:  0.919348416714\n",
      "---------Training Data Results---------\n",
      "\n",
      "Accuracy:  0.919158333229\n",
      "AUC:  0.934871336089\n",
      "Confusion Matrix: \n",
      "[[163702   2645]\n",
      " [ 16684  56066]]\n",
      "Classification Report: \n",
      "             precision    recall  f1-score   support\n",
      "\n",
      "          0       0.91      0.98      0.94    166347\n",
      "          1       0.95      0.77      0.85     72750\n",
      "\n",
      "avg / total       0.92      0.92      0.92    239097\n",
      "\n",
      "---------Testing Data Results---------\n",
      "\n",
      "Accuracy:  0.919791941135\n",
      "AUC:  0.935869295175\n",
      "Confusion Matrix: \n",
      "[[70046  1184]\n",
      " [ 7035 24206]]\n",
      "Classification Report: \n",
      "             precision    recall  f1-score   support\n",
      "\n",
      "          0       0.91      0.98      0.94     71230\n",
      "          1       0.95      0.77      0.85     31241\n",
      "\n",
      "avg / total       0.92      0.92      0.92    102471\n",
      "\n"
     ]
    }
   ],
   "source": [
    "#Logistic Regression \n",
    "model_logistic = LogisticRegression()\n",
    "model_logistic=modeleval(X_train, X_test, Y_train, Y_test,model_logistic)"
   ]
  },
  {
   "cell_type": "code",
   "execution_count": 35,
   "metadata": {
    "collapsed": false
   },
   "outputs": [
    {
     "name": "stdout",
     "output_type": "stream",
     "text": [
      "Score:  0.971952876148\n",
      "---------Training Data Results---------\n",
      "\n",
      "Accuracy:  0.972099189869\n",
      "AUC:  0.996779719502\n",
      "Confusion Matrix: \n",
      "[[164219   2128]\n",
      " [  4543  68207]]\n",
      "Classification Report: \n",
      "             precision    recall  f1-score   support\n",
      "\n",
      "          0       0.97      0.99      0.98    166347\n",
      "          1       0.97      0.94      0.95     72750\n",
      "\n",
      "avg / total       0.97      0.97      0.97    239097\n",
      "\n",
      "---------Testing Data Results---------\n",
      "\n",
      "Accuracy:  0.971611480321\n",
      "AUC:  0.996763501751\n",
      "Confusion Matrix: \n",
      "[[70252   978]\n",
      " [ 1931 29310]]\n",
      "Classification Report: \n",
      "             precision    recall  f1-score   support\n",
      "\n",
      "          0       0.97      0.99      0.98     71230\n",
      "          1       0.97      0.94      0.95     31241\n",
      "\n",
      "avg / total       0.97      0.97      0.97    102471\n",
      "\n"
     ]
    },
    {
     "data": {
      "text/plain": [
       "[('EmailOpen', 0.66046550226385514),\n",
       " ('EmailClickthrough', 0.089095247957362123),\n",
       " ('PageView', 0.012503659846034344),\n",
       " ('WebVisit', 0.014533846460784235),\n",
       " ('FormSubmit', 0.22340174347196412)]"
      ]
     },
     "execution_count": 35,
     "metadata": {},
     "output_type": "execute_result"
    }
   ],
   "source": [
    "#Decision Tree\n",
    "clf=tree.DecisionTreeClassifier(max_depth = 10, random_state = 1)\n",
    "clf=modeleval(X_train, X_test, Y_train, Y_test,clf)\n",
    "zip(features,list(clf.feature_importances_))"
   ]
  },
  {
   "cell_type": "code",
   "execution_count": 36,
   "metadata": {
    "collapsed": false
   },
   "outputs": [
    {
     "name": "stdout",
     "output_type": "stream",
     "text": [
      "Score:  0.974619987821\n",
      "---------Training Data Results---------\n",
      "\n",
      "Accuracy:  0.974959953492\n",
      "AUC:  0.997003833228\n",
      "Confusion Matrix: \n",
      "[[163738   2609]\n",
      " [  3378  69372]]\n",
      "Classification Report: \n",
      "             precision    recall  f1-score   support\n",
      "\n",
      "          0       0.98      0.98      0.98    166347\n",
      "          1       0.96      0.95      0.96     72750\n",
      "\n",
      "avg / total       0.97      0.97      0.97    239097\n",
      "\n",
      "---------Testing Data Results---------\n",
      "\n",
      "Accuracy:  0.973826741224\n",
      "AUC:  0.996975272413\n",
      "Confusion Matrix: \n",
      "[[70024  1206]\n",
      " [ 1476 29765]]\n",
      "Classification Report: \n",
      "             precision    recall  f1-score   support\n",
      "\n",
      "          0       0.98      0.98      0.98     71230\n",
      "          1       0.96      0.95      0.96     31241\n",
      "\n",
      "avg / total       0.97      0.97      0.97    102471\n",
      "\n"
     ]
    },
    {
     "data": {
      "text/plain": [
       "[('EmailOpen', 0.75554812467136268),\n",
       " ('EmailClickthrough', 0.076005089543798948),\n",
       " ('PageView', 0.015534331599574827),\n",
       " ('WebVisit', 0.024286124129528595),\n",
       " ('FormSubmit', 0.12862633005573493)]"
      ]
     },
     "execution_count": 36,
     "metadata": {},
     "output_type": "execute_result"
    }
   ],
   "source": [
    "#Random Forest\n",
    "forest = RandomForestClassifier(max_depth = 10, random_state = 1)\n",
    "forest=modeleval(X_train, X_test, Y_train, Y_test,forest)\n",
    "zip(features,list(forest.feature_importances_))"
   ]
  },
  {
   "cell_type": "code",
   "execution_count": 37,
   "metadata": {
    "collapsed": false,
    "scrolled": true
   },
   "outputs": [
    {
     "name": "stdout",
     "output_type": "stream",
     "text": [
      "Score:  0.47478686528\n",
      "---------Training Data Results---------\n",
      "\n",
      "Accuracy:  0.47443506192\n",
      "AUC:  0.891994857353\n",
      "Confusion Matrix: \n",
      "[[ 48534 117813]\n",
      " [  7848  64902]]\n",
      "Classification Report: \n",
      "             precision    recall  f1-score   support\n",
      "\n",
      "          0       0.86      0.29      0.44    166347\n",
      "          1       0.36      0.89      0.51     72750\n",
      "\n",
      "avg / total       0.71      0.47      0.46    239097\n",
      "\n",
      "---------Testing Data Results---------\n",
      "\n",
      "Accuracy:  0.47560773292\n",
      "AUC:  0.893453488127\n",
      "Confusion Matrix: \n",
      "[[20796 50434]\n",
      " [ 3301 27940]]\n",
      "Classification Report: \n",
      "             precision    recall  f1-score   support\n",
      "\n",
      "          0       0.86      0.29      0.44     71230\n",
      "          1       0.36      0.89      0.51     31241\n",
      "\n",
      "avg / total       0.71      0.48      0.46    102471\n",
      "\n"
     ]
    }
   ],
   "source": [
    "#Naive Bayes Classifier\n",
    "naivebayes = GaussianNB()\n",
    "naivebayes=modeleval(X_train, X_test, Y_train, Y_test,naivebayes)"
   ]
  },
  {
   "cell_type": "markdown",
   "metadata": {},
   "source": [
    "Based on the Confusion Matrix and Accuracy Score, RandomForest gives the best results and thus we will use it to predict the potential buyers from test data"
   ]
  },
  {
   "cell_type": "markdown",
   "metadata": {},
   "source": [
    "---------------------------------Step 6: Prepare the Test Data ---------------------------------"
   ]
  },
  {
   "cell_type": "markdown",
   "metadata": {},
   "source": [
    "Prepare the test data on similar lines of training data i.e. getting percentages of each activity"
   ]
  },
  {
   "cell_type": "code",
   "execution_count": 38,
   "metadata": {
    "collapsed": false
   },
   "outputs": [
    {
     "data": {
      "text/html": [
       "<div>\n",
       "<table border=\"1\" class=\"dataframe\">\n",
       "  <thead>\n",
       "    <tr style=\"text-align: right;\">\n",
       "      <th></th>\n",
       "      <th>EmailClickthrough</th>\n",
       "      <th>EmailOpen</th>\n",
       "      <th>FormSubmit</th>\n",
       "      <th>PageView</th>\n",
       "      <th>WebVisit</th>\n",
       "      <th>user_id</th>\n",
       "    </tr>\n",
       "  </thead>\n",
       "  <tbody>\n",
       "    <tr>\n",
       "      <th>0</th>\n",
       "      <td>0.0</td>\n",
       "      <td>1.0</td>\n",
       "      <td>0.0</td>\n",
       "      <td>0.0</td>\n",
       "      <td>0.0</td>\n",
       "      <td>0000ecf58c94668</td>\n",
       "    </tr>\n",
       "    <tr>\n",
       "      <th>1</th>\n",
       "      <td>1.0</td>\n",
       "      <td>1.0</td>\n",
       "      <td>0.0</td>\n",
       "      <td>0.0</td>\n",
       "      <td>0.0</td>\n",
       "      <td>000132f21724ee2</td>\n",
       "    </tr>\n",
       "    <tr>\n",
       "      <th>2</th>\n",
       "      <td>0.0</td>\n",
       "      <td>1.0</td>\n",
       "      <td>0.0</td>\n",
       "      <td>0.0</td>\n",
       "      <td>0.0</td>\n",
       "      <td>0001b315b991cf0</td>\n",
       "    </tr>\n",
       "    <tr>\n",
       "      <th>3</th>\n",
       "      <td>0.0</td>\n",
       "      <td>1.0</td>\n",
       "      <td>0.0</td>\n",
       "      <td>0.0</td>\n",
       "      <td>0.0</td>\n",
       "      <td>000269150971d08</td>\n",
       "    </tr>\n",
       "    <tr>\n",
       "      <th>4</th>\n",
       "      <td>0.0</td>\n",
       "      <td>1.0</td>\n",
       "      <td>0.0</td>\n",
       "      <td>0.0</td>\n",
       "      <td>0.0</td>\n",
       "      <td>000297ba4fa5026</td>\n",
       "    </tr>\n",
       "  </tbody>\n",
       "</table>\n",
       "</div>"
      ],
      "text/plain": [
       "   EmailClickthrough  EmailOpen  FormSubmit  PageView  WebVisit  \\\n",
       "0                0.0        1.0         0.0       0.0       0.0   \n",
       "1                1.0        1.0         0.0       0.0       0.0   \n",
       "2                0.0        1.0         0.0       0.0       0.0   \n",
       "3                0.0        1.0         0.0       0.0       0.0   \n",
       "4                0.0        1.0         0.0       0.0       0.0   \n",
       "\n",
       "           user_id  \n",
       "0  0000ecf58c94668  \n",
       "1  000132f21724ee2  \n",
       "2  0001b315b991cf0  \n",
       "3  000269150971d08  \n",
       "4  000297ba4fa5026  "
      ]
     },
     "execution_count": 38,
     "metadata": {},
     "output_type": "execute_result"
    }
   ],
   "source": [
    "testing_data=pivoted_testing.pivot_table(index='user_id',aggfunc=[np.sum,len],\n",
    "                                                values=['EmailClickthrough',\n",
    " 'EmailOpen', 'FormSubmit', 'PageView', 'WebVisit'])\n",
    "testing_data=prepare_data(testing_data)\n",
    "testing_data.head()\n"
   ]
  },
  {
   "cell_type": "markdown",
   "metadata": {},
   "source": [
    "---------------------------------Step 7: Potential users using RandomForest ---------------------------------"
   ]
  },
  {
   "cell_type": "code",
   "execution_count": 39,
   "metadata": {
    "collapsed": false
   },
   "outputs": [
    {
     "name": "stdout",
     "output_type": "stream",
     "text": [
      "[0 0 0 ..., 0 0 0]\n"
     ]
    }
   ],
   "source": [
    "features=['EmailClickthrough','EmailOpen','FormSubmit','PageView','WebVisit']\n",
    "test=testing_data[features]\n",
    "predict_testing=forest.predict(test)\n",
    "probs_testing = forest.predict_proba(test)\n",
    "print predict_testing"
   ]
  },
  {
   "cell_type": "code",
   "execution_count": 40,
   "metadata": {
    "collapsed": false
   },
   "outputs": [
    {
     "data": {
      "text/html": [
       "<div>\n",
       "<table border=\"1\" class=\"dataframe\">\n",
       "  <thead>\n",
       "    <tr style=\"text-align: right;\">\n",
       "      <th></th>\n",
       "      <th>Prediction</th>\n",
       "      <th>Prob_0</th>\n",
       "      <th>Prob_1</th>\n",
       "      <th>user_id</th>\n",
       "    </tr>\n",
       "  </thead>\n",
       "  <tbody>\n",
       "    <tr>\n",
       "      <th>0</th>\n",
       "      <td>0.0</td>\n",
       "      <td>0.998723</td>\n",
       "      <td>0.001277</td>\n",
       "      <td>0000ecf58c94668</td>\n",
       "    </tr>\n",
       "    <tr>\n",
       "      <th>1</th>\n",
       "      <td>0.0</td>\n",
       "      <td>0.999567</td>\n",
       "      <td>0.000433</td>\n",
       "      <td>000132f21724ee2</td>\n",
       "    </tr>\n",
       "    <tr>\n",
       "      <th>2</th>\n",
       "      <td>0.0</td>\n",
       "      <td>0.998723</td>\n",
       "      <td>0.001277</td>\n",
       "      <td>0001b315b991cf0</td>\n",
       "    </tr>\n",
       "    <tr>\n",
       "      <th>3</th>\n",
       "      <td>0.0</td>\n",
       "      <td>0.998723</td>\n",
       "      <td>0.001277</td>\n",
       "      <td>000269150971d08</td>\n",
       "    </tr>\n",
       "    <tr>\n",
       "      <th>4</th>\n",
       "      <td>0.0</td>\n",
       "      <td>0.998723</td>\n",
       "      <td>0.001277</td>\n",
       "      <td>000297ba4fa5026</td>\n",
       "    </tr>\n",
       "  </tbody>\n",
       "</table>\n",
       "</div>"
      ],
      "text/plain": [
       "   Prediction    Prob_0    Prob_1          user_id\n",
       "0         0.0  0.998723  0.001277  0000ecf58c94668\n",
       "1         0.0  0.999567  0.000433  000132f21724ee2\n",
       "2         0.0  0.998723  0.001277  0001b315b991cf0\n",
       "3         0.0  0.998723  0.001277  000269150971d08\n",
       "4         0.0  0.998723  0.001277  000297ba4fa5026"
      ]
     },
     "execution_count": 40,
     "metadata": {},
     "output_type": "execute_result"
    }
   ],
   "source": [
    "predictions_forest=pd.DataFrame(data=[predict_testing,probs_testing[:,0],probs_testing[:,1]]).transpose()\n",
    "predictions_forest.rename(columns={0: 'Prediction', 1: 'Prob_0',2:'Prob_1'}, inplace=True)\n",
    "predictions_forest['user_id']=testing_data['user_id']\n",
    "predictions_forest.head()"
   ]
  },
  {
   "cell_type": "code",
   "execution_count": 41,
   "metadata": {
    "collapsed": false
   },
   "outputs": [],
   "source": [
    "predictions=predictions_forest[predictions_forest['Prediction']==1.0].sort_values('Prob_1',ascending=False)"
   ]
  },
  {
   "cell_type": "code",
   "execution_count": 44,
   "metadata": {
    "collapsed": false
   },
   "outputs": [],
   "source": [
    "forest_predictions=predictions[['user_id','Prob_1','Prob_0']]\n",
    "forest_predictions.to_csv('C:/Users/voran/Desktop/takehome/takehome/forest_predictions.csv',index=False)"
   ]
  },
  {
   "cell_type": "markdown",
   "metadata": {},
   "source": [
    "---------------------------------Step 8: Segmenting User's Activities in different periods ---------------------------------"
   ]
  },
  {
   "cell_type": "code",
   "execution_count": 45,
   "metadata": {
    "collapsed": true
   },
   "outputs": [],
   "source": [
    "#TimePeriod.csv file contains mapping of Date to which period it belongs to"
   ]
  },
  {
   "cell_type": "code",
   "execution_count": 46,
   "metadata": {
    "collapsed": false
   },
   "outputs": [],
   "source": [
    "time_period=pd.read_csv('C:/Users/voran/Desktop/takehome/takehome/TimePeriod.csv',dtype=None)"
   ]
  },
  {
   "cell_type": "code",
   "execution_count": 47,
   "metadata": {
    "collapsed": false
   },
   "outputs": [],
   "source": [
    "time_period.Date=pd.to_datetime(time_period.Date)\n",
    "time_period.Date=time_period.Date.astype('str')\n",
    "pivoted_training.Activity_Date=pivoted_training.Activity_Date.astype('str')"
   ]
  },
  {
   "cell_type": "code",
   "execution_count": 48,
   "metadata": {
    "collapsed": true
   },
   "outputs": [],
   "source": [
    "dataset=pd.merge(pivoted_training, time_period, how='left', left_on=['Activity_Date'],right_on=['Date'])"
   ]
  },
  {
   "cell_type": "code",
   "execution_count": 49,
   "metadata": {
    "collapsed": false
   },
   "outputs": [
    {
     "data": {
      "text/html": [
       "<div>\n",
       "<table border=\"1\" class=\"dataframe\">\n",
       "  <thead>\n",
       "    <tr style=\"text-align: right;\">\n",
       "      <th>Activity</th>\n",
       "      <th>user_id</th>\n",
       "      <th>Activity_Date</th>\n",
       "      <th>CustomerSupport</th>\n",
       "      <th>EmailClickthrough</th>\n",
       "      <th>EmailOpen</th>\n",
       "      <th>FormSubmit</th>\n",
       "      <th>PageView</th>\n",
       "      <th>Purchase</th>\n",
       "      <th>WebVisit</th>\n",
       "      <th>Date</th>\n",
       "      <th>Period</th>\n",
       "    </tr>\n",
       "  </thead>\n",
       "  <tbody>\n",
       "    <tr>\n",
       "      <th>0</th>\n",
       "      <td>00002acbe042d69</td>\n",
       "      <td>2013-07-11</td>\n",
       "      <td>0</td>\n",
       "      <td>0</td>\n",
       "      <td>1</td>\n",
       "      <td>1</td>\n",
       "      <td>0</td>\n",
       "      <td>0</td>\n",
       "      <td>0</td>\n",
       "      <td>2013-07-11</td>\n",
       "      <td>1</td>\n",
       "    </tr>\n",
       "    <tr>\n",
       "      <th>1</th>\n",
       "      <td>00002acbe042d69</td>\n",
       "      <td>2013-07-15</td>\n",
       "      <td>0</td>\n",
       "      <td>0</td>\n",
       "      <td>1</td>\n",
       "      <td>0</td>\n",
       "      <td>0</td>\n",
       "      <td>0</td>\n",
       "      <td>0</td>\n",
       "      <td>2013-07-15</td>\n",
       "      <td>1</td>\n",
       "    </tr>\n",
       "    <tr>\n",
       "      <th>2</th>\n",
       "      <td>00002acbe042d69</td>\n",
       "      <td>2013-07-17</td>\n",
       "      <td>0</td>\n",
       "      <td>0</td>\n",
       "      <td>1</td>\n",
       "      <td>0</td>\n",
       "      <td>0</td>\n",
       "      <td>0</td>\n",
       "      <td>0</td>\n",
       "      <td>2013-07-17</td>\n",
       "      <td>1</td>\n",
       "    </tr>\n",
       "    <tr>\n",
       "      <th>3</th>\n",
       "      <td>00002acbe042d69</td>\n",
       "      <td>2013-07-18</td>\n",
       "      <td>0</td>\n",
       "      <td>0</td>\n",
       "      <td>1</td>\n",
       "      <td>0</td>\n",
       "      <td>0</td>\n",
       "      <td>0</td>\n",
       "      <td>0</td>\n",
       "      <td>2013-07-18</td>\n",
       "      <td>1</td>\n",
       "    </tr>\n",
       "    <tr>\n",
       "      <th>4</th>\n",
       "      <td>00002acbe042d69</td>\n",
       "      <td>2013-07-25</td>\n",
       "      <td>0</td>\n",
       "      <td>0</td>\n",
       "      <td>1</td>\n",
       "      <td>0</td>\n",
       "      <td>0</td>\n",
       "      <td>0</td>\n",
       "      <td>0</td>\n",
       "      <td>2013-07-25</td>\n",
       "      <td>1</td>\n",
       "    </tr>\n",
       "  </tbody>\n",
       "</table>\n",
       "</div>"
      ],
      "text/plain": [
       "Activity          user_id Activity_Date  CustomerSupport  EmailClickthrough  \\\n",
       "0         00002acbe042d69    2013-07-11                0                  0   \n",
       "1         00002acbe042d69    2013-07-15                0                  0   \n",
       "2         00002acbe042d69    2013-07-17                0                  0   \n",
       "3         00002acbe042d69    2013-07-18                0                  0   \n",
       "4         00002acbe042d69    2013-07-25                0                  0   \n",
       "\n",
       "Activity  EmailOpen  FormSubmit  PageView  Purchase  WebVisit        Date  \\\n",
       "0                 1           1         0         0         0  2013-07-11   \n",
       "1                 1           0         0         0         0  2013-07-15   \n",
       "2                 1           0         0         0         0  2013-07-17   \n",
       "3                 1           0         0         0         0  2013-07-18   \n",
       "4                 1           0         0         0         0  2013-07-25   \n",
       "\n",
       "Activity  Period  \n",
       "0              1  \n",
       "1              1  \n",
       "2              1  \n",
       "3              1  \n",
       "4              1  "
      ]
     },
     "execution_count": 49,
     "metadata": {},
     "output_type": "execute_result"
    }
   ],
   "source": [
    "dataset.head()"
   ]
  },
  {
   "cell_type": "markdown",
   "metadata": {},
   "source": [
    "---------------------------------Step 9: Aggregated the data grouping by users and period---------------------------------"
   ]
  },
  {
   "cell_type": "code",
   "execution_count": 50,
   "metadata": {
    "collapsed": false
   },
   "outputs": [],
   "source": [
    "training_model_data_1=dataset.pivot_table(index=['user_id','Period'],aggfunc=[np.sum,len],\n",
    "                                                values=['CustomerSupport', 'EmailClickthrough',\n",
    " 'EmailOpen', 'FormSubmit', 'PageView','Purchase', 'WebVisit'])\n"
   ]
  },
  {
   "cell_type": "code",
   "execution_count": 51,
   "metadata": {
    "collapsed": false
   },
   "outputs": [
    {
     "data": {
      "text/html": [
       "<div>\n",
       "<table border=\"1\" class=\"dataframe\">\n",
       "  <thead>\n",
       "    <tr style=\"text-align: right;\">\n",
       "      <th></th>\n",
       "      <th>CustomerSupport</th>\n",
       "      <th>EmailClickthrough</th>\n",
       "      <th>EmailOpen</th>\n",
       "      <th>FormSubmit</th>\n",
       "      <th>PageView</th>\n",
       "      <th>Purchase</th>\n",
       "      <th>WebVisit</th>\n",
       "      <th>user_id</th>\n",
       "      <th>Period</th>\n",
       "      <th>target</th>\n",
       "    </tr>\n",
       "  </thead>\n",
       "  <tbody>\n",
       "    <tr>\n",
       "      <th>0</th>\n",
       "      <td>0.0</td>\n",
       "      <td>0.0</td>\n",
       "      <td>1.0</td>\n",
       "      <td>0.111111</td>\n",
       "      <td>0.0</td>\n",
       "      <td>0.0</td>\n",
       "      <td>0.0</td>\n",
       "      <td>00002acbe042d69</td>\n",
       "      <td>1</td>\n",
       "      <td>0</td>\n",
       "    </tr>\n",
       "    <tr>\n",
       "      <th>1</th>\n",
       "      <td>0.0</td>\n",
       "      <td>0.0</td>\n",
       "      <td>1.0</td>\n",
       "      <td>0.000000</td>\n",
       "      <td>0.0</td>\n",
       "      <td>0.0</td>\n",
       "      <td>0.0</td>\n",
       "      <td>0000a3a34bd07e6</td>\n",
       "      <td>1</td>\n",
       "      <td>0</td>\n",
       "    </tr>\n",
       "    <tr>\n",
       "      <th>2</th>\n",
       "      <td>0.0</td>\n",
       "      <td>0.0</td>\n",
       "      <td>1.0</td>\n",
       "      <td>0.000000</td>\n",
       "      <td>0.0</td>\n",
       "      <td>0.0</td>\n",
       "      <td>0.0</td>\n",
       "      <td>0000a3a34bd07e6</td>\n",
       "      <td>2</td>\n",
       "      <td>0</td>\n",
       "    </tr>\n",
       "    <tr>\n",
       "      <th>3</th>\n",
       "      <td>0.0</td>\n",
       "      <td>0.0</td>\n",
       "      <td>1.0</td>\n",
       "      <td>0.000000</td>\n",
       "      <td>0.0</td>\n",
       "      <td>0.0</td>\n",
       "      <td>0.0</td>\n",
       "      <td>0000a3a34bd07e6</td>\n",
       "      <td>3</td>\n",
       "      <td>0</td>\n",
       "    </tr>\n",
       "    <tr>\n",
       "      <th>4</th>\n",
       "      <td>0.0</td>\n",
       "      <td>0.0</td>\n",
       "      <td>1.0</td>\n",
       "      <td>0.000000</td>\n",
       "      <td>0.0</td>\n",
       "      <td>0.0</td>\n",
       "      <td>0.0</td>\n",
       "      <td>0000a3a34bd07e6</td>\n",
       "      <td>4</td>\n",
       "      <td>0</td>\n",
       "    </tr>\n",
       "  </tbody>\n",
       "</table>\n",
       "</div>"
      ],
      "text/plain": [
       "   CustomerSupport  EmailClickthrough  EmailOpen  FormSubmit  PageView  \\\n",
       "0              0.0                0.0        1.0    0.111111       0.0   \n",
       "1              0.0                0.0        1.0    0.000000       0.0   \n",
       "2              0.0                0.0        1.0    0.000000       0.0   \n",
       "3              0.0                0.0        1.0    0.000000       0.0   \n",
       "4              0.0                0.0        1.0    0.000000       0.0   \n",
       "\n",
       "   Purchase  WebVisit          user_id  Period  target  \n",
       "0       0.0       0.0  00002acbe042d69       1       0  \n",
       "1       0.0       0.0  0000a3a34bd07e6       1       0  \n",
       "2       0.0       0.0  0000a3a34bd07e6       2       0  \n",
       "3       0.0       0.0  0000a3a34bd07e6       3       0  \n",
       "4       0.0       0.0  0000a3a34bd07e6       4       0  "
      ]
     },
     "execution_count": 51,
     "metadata": {},
     "output_type": "execute_result"
    }
   ],
   "source": [
    "training_perioddata=prepare_data(training_model_data_1)\n",
    "training_perioddata['target']=training_perioddata['Purchase']>0\n",
    "training_perioddata['target']=training_perioddata['target'].astype('int64')\n",
    "training_perioddata.head()"
   ]
  },
  {
   "cell_type": "markdown",
   "metadata": {},
   "source": [
    "---------------------------------Step 10: Running the model and evaulation---------------------------------"
   ]
  },
  {
   "cell_type": "code",
   "execution_count": 52,
   "metadata": {
    "collapsed": false
   },
   "outputs": [],
   "source": [
    "features=['EmailOpen','EmailClickthrough','PageView','WebVisit','FormSubmit']\n",
    "X=training_perioddata[features]\n",
    "Y=training_perioddata.target\n",
    "X_train, X_test, Y_train, Y_test = train_test_split(X, Y, test_size=0.3, random_state=0)\n"
   ]
  },
  {
   "cell_type": "code",
   "execution_count": 53,
   "metadata": {
    "collapsed": false
   },
   "outputs": [
    {
     "name": "stdout",
     "output_type": "stream",
     "text": [
      "Score:  0.977006881661\n",
      "---------Training Data Results---------\n",
      "\n",
      "Accuracy:  0.977227667013\n",
      "AUC:  0.994371148889\n",
      "Confusion Matrix: \n",
      "[[533153   5513]\n",
      " [ 10257 143584]]\n",
      "Classification Report: \n",
      "             precision    recall  f1-score   support\n",
      "\n",
      "          0       0.98      0.99      0.99    538666\n",
      "          1       0.96      0.93      0.95    153841\n",
      "\n",
      "avg / total       0.98      0.98      0.98    692507\n",
      "\n",
      "---------Testing Data Results---------\n",
      "\n",
      "Accuracy:  0.976491716337\n",
      "AUC:  0.993819781987\n",
      "Confusion Matrix: \n",
      "[[228845   2364]\n",
      " [  4613  60967]]\n",
      "Classification Report: \n",
      "             precision    recall  f1-score   support\n",
      "\n",
      "          0       0.98      0.99      0.98    231209\n",
      "          1       0.96      0.93      0.95     65580\n",
      "\n",
      "avg / total       0.98      0.98      0.98    296789\n",
      "\n"
     ]
    },
    {
     "data": {
      "text/plain": [
       "[('EmailOpen', 0.72508795566372086),\n",
       " ('EmailClickthrough', 0.070781333933987084),\n",
       " ('PageView', 0.011007041679746709),\n",
       " ('WebVisit', 0.058239661694371676),\n",
       " ('FormSubmit', 0.13488400702817369)]"
      ]
     },
     "execution_count": 53,
     "metadata": {},
     "output_type": "execute_result"
    }
   ],
   "source": [
    "clf_period=tree.DecisionTreeClassifier(max_depth = 10, random_state = 1)\n",
    "clf_period=modeleval(X_train, X_test, Y_train, Y_test,clf_period)\n",
    "zip(features,list(clf_period.feature_importances_))"
   ]
  },
  {
   "cell_type": "code",
   "execution_count": 54,
   "metadata": {
    "collapsed": false
   },
   "outputs": [
    {
     "name": "stdout",
     "output_type": "stream",
     "text": [
      "Score:  0.977006881661\n",
      "---------Training Data Results---------\n",
      "\n",
      "Accuracy:  0.977227667013\n",
      "AUC:  0.994371148889\n",
      "Confusion Matrix: \n",
      "[[533153   5513]\n",
      " [ 10257 143584]]\n",
      "Classification Report: \n",
      "             precision    recall  f1-score   support\n",
      "\n",
      "          0       0.98      0.99      0.99    538666\n",
      "          1       0.96      0.93      0.95    153841\n",
      "\n",
      "avg / total       0.98      0.98      0.98    692507\n",
      "\n",
      "---------Testing Data Results---------\n",
      "\n",
      "Accuracy:  0.976491716337\n",
      "AUC:  0.993819781987\n",
      "Confusion Matrix: \n",
      "[[228845   2364]\n",
      " [  4613  60967]]\n",
      "Classification Report: \n",
      "             precision    recall  f1-score   support\n",
      "\n",
      "          0       0.98      0.99      0.98    231209\n",
      "          1       0.96      0.93      0.95     65580\n",
      "\n",
      "avg / total       0.98      0.98      0.98    296789\n",
      "\n"
     ]
    },
    {
     "data": {
      "text/plain": [
       "[('EmailOpen', 0.72508795566372086),\n",
       " ('EmailClickthrough', 0.070781333933987084),\n",
       " ('PageView', 0.011007041679746709),\n",
       " ('WebVisit', 0.058239661694371676),\n",
       " ('FormSubmit', 0.13488400702817369)]"
      ]
     },
     "execution_count": 54,
     "metadata": {},
     "output_type": "execute_result"
    }
   ],
   "source": [
    "forest_period=RandomForestClassifier(max_depth = 10, random_state = 1,min_samples_split=5)\n",
    "forest_period=modeleval(X_train, X_test, Y_train, Y_test,clf_period)\n",
    "zip(features,list(forest_period.feature_importances_))"
   ]
  },
  {
   "cell_type": "markdown",
   "metadata": {},
   "source": [
    "-----------------------------Step 11: Potential users using RandomForest based on segmented data -----------------------------"
   ]
  },
  {
   "cell_type": "code",
   "execution_count": 55,
   "metadata": {
    "collapsed": false,
    "scrolled": true
   },
   "outputs": [
    {
     "name": "stdout",
     "output_type": "stream",
     "text": [
      "[0 0 0 ..., 0 0 0]\n"
     ]
    },
    {
     "data": {
      "text/html": [
       "<div>\n",
       "<table border=\"1\" class=\"dataframe\">\n",
       "  <thead>\n",
       "    <tr style=\"text-align: right;\">\n",
       "      <th></th>\n",
       "      <th>Prediction</th>\n",
       "      <th>Prob_0</th>\n",
       "      <th>Prob_1</th>\n",
       "      <th>user_id</th>\n",
       "    </tr>\n",
       "  </thead>\n",
       "  <tbody>\n",
       "    <tr>\n",
       "      <th>0</th>\n",
       "      <td>0.0</td>\n",
       "      <td>0.999132</td>\n",
       "      <td>0.000868</td>\n",
       "      <td>0000ecf58c94668</td>\n",
       "    </tr>\n",
       "    <tr>\n",
       "      <th>1</th>\n",
       "      <td>0.0</td>\n",
       "      <td>0.998659</td>\n",
       "      <td>0.001341</td>\n",
       "      <td>000132f21724ee2</td>\n",
       "    </tr>\n",
       "    <tr>\n",
       "      <th>2</th>\n",
       "      <td>0.0</td>\n",
       "      <td>0.999132</td>\n",
       "      <td>0.000868</td>\n",
       "      <td>0001b315b991cf0</td>\n",
       "    </tr>\n",
       "    <tr>\n",
       "      <th>3</th>\n",
       "      <td>0.0</td>\n",
       "      <td>0.999132</td>\n",
       "      <td>0.000868</td>\n",
       "      <td>000269150971d08</td>\n",
       "    </tr>\n",
       "    <tr>\n",
       "      <th>4</th>\n",
       "      <td>0.0</td>\n",
       "      <td>0.999132</td>\n",
       "      <td>0.000868</td>\n",
       "      <td>000297ba4fa5026</td>\n",
       "    </tr>\n",
       "  </tbody>\n",
       "</table>\n",
       "</div>"
      ],
      "text/plain": [
       "   Prediction    Prob_0    Prob_1          user_id\n",
       "0         0.0  0.999132  0.000868  0000ecf58c94668\n",
       "1         0.0  0.998659  0.001341  000132f21724ee2\n",
       "2         0.0  0.999132  0.000868  0001b315b991cf0\n",
       "3         0.0  0.999132  0.000868  000269150971d08\n",
       "4         0.0  0.999132  0.000868  000297ba4fa5026"
      ]
     },
     "execution_count": 55,
     "metadata": {},
     "output_type": "execute_result"
    }
   ],
   "source": [
    "predict_testing_period=forest_period.predict(test)\n",
    "probs_testing_period = forest_period.predict_proba(test)\n",
    "print predict_testing_period\n",
    "predictions_forest=pd.DataFrame(data=[predict_testing_period,probs_testing_period[:,0],probs_testing_period[:,1]]).transpose()\n",
    "predictions_forest.rename(columns={0: 'Prediction', 1: 'Prob_0',2:'Prob_1'}, inplace=True)\n",
    "predictions_forest['user_id']=testing_data['user_id']\n",
    "predictions_forest.head()"
   ]
  },
  {
   "cell_type": "code",
   "execution_count": 56,
   "metadata": {
    "collapsed": false
   },
   "outputs": [],
   "source": [
    "predictions_forest_exp=predictions_forest[predictions_forest['Prediction']==1.0].sort_values('Prob_1',ascending=False)\n",
    "forest_predictions_period=predictions_forest_exp[['user_id','Prob_1','Prob_0']]\n",
    "forest_predictions_period.to_csv('C:/Users/voran/Desktop/takehome/takehome/forest_predictions_period.csv',index=False)"
   ]
  },
  {
   "cell_type": "markdown",
   "metadata": {},
   "source": [
    "Best Model: 'RandomForest'\n",
    "\n",
    "Data Aggregating Techniques: PeriodWise\n",
    "\n",
    "Activity Importances:\n",
    "\n",
    "    'EmailOpen' : 0.72508795566372086\n",
    "\n",
    "    'EmailClickthrough': 0.070781333933987084\n",
    "\n",
    "    'PageView': 0.011007041679746709\n",
    "\n",
    "    'WebVisit': 0.058239661694371676\n",
    "\n",
    "    'FormSubmit': 0.13488400702817369"
   ]
  }
 ],
 "metadata": {
  "celltoolbar": "Raw Cell Format",
  "kernelspec": {
   "display_name": "Python 2",
   "language": "python",
   "name": "python2"
  },
  "language_info": {
   "codemirror_mode": {
    "name": "ipython",
    "version": 2
   },
   "file_extension": ".py",
   "mimetype": "text/x-python",
   "name": "python",
   "nbconvert_exporter": "python",
   "pygments_lexer": "ipython2",
   "version": "2.7.12"
  }
 },
 "nbformat": 4,
 "nbformat_minor": 0
}
